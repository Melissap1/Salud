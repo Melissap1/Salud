{
  "nbformat": 4,
  "nbformat_minor": 0,
  "metadata": {
    "colab": {
      "provenance": []
    },
    "kernelspec": {
      "name": "python3",
      "display_name": "Python 3"
    },
    "language_info": {
      "name": "python"
    }
  },
  "cells": [
    {
      "cell_type": "code",
      "execution_count": 2,
      "metadata": {
        "colab": {
          "base_uri": "https://localhost:8080/"
        },
        "id": "l-Hmww5J802A",
        "outputId": "7110fd1c-8945-4922-9e42-d99824726873"
      },
      "outputs": [
        {
          "output_type": "stream",
          "name": "stdout",
          "text": [
            "Requirement already satisfied: opencv-python in /usr/local/lib/python3.11/dist-packages (4.11.0.86)\n",
            "Requirement already satisfied: numpy>=1.21.2 in /usr/local/lib/python3.11/dist-packages (from opencv-python) (2.0.2)\n"
          ]
        }
      ],
      "source": [
        "!pip install opencv-python\n"
      ]
    },
    {
      "cell_type": "code",
      "source": [
        "from google.colab import drive\n",
        "import sys\n",
        "import os\n",
        "import numpy as np\n",
        "import pandas as pd\n",
        "import tensorflow as tf\n",
        "import openpyxl\n",
        "from sklearn.preprocessing import StandardScaler"
      ],
      "metadata": {
        "id": "i_307A9S9HY4"
      },
      "execution_count": 3,
      "outputs": []
    },
    {
      "cell_type": "code",
      "source": [
        "drive.mount('/content/drive')\n",
        "#Define la parte del directorio que quieres trabajar\n",
        "path = \"/content/drive/MyDrive/Mod2/Salud\"\n",
        "\n",
        "# Add the path to sys.path\n",
        "sys.path.append(path)\n",
        "os.chdir(path)\n",
        "\n",
        "os.curdir\n"
      ],
      "metadata": {
        "colab": {
          "base_uri": "https://localhost:8080/",
          "height": 54
        },
        "id": "a_Yh-vJ_9TEB",
        "outputId": "fab168b7-5010-4009-aa4f-fbcb493967dd"
      },
      "execution_count": 6,
      "outputs": [
        {
          "output_type": "stream",
          "name": "stdout",
          "text": [
            "Mounted at /content/drive\n"
          ]
        },
        {
          "output_type": "execute_result",
          "data": {
            "text/plain": [
              "'.'"
            ],
            "application/vnd.google.colaboratory.intrinsic+json": {
              "type": "string"
            }
          },
          "metadata": {},
          "execution_count": 6
        }
      ]
    },
    {
      "cell_type": "code",
      "source": [
        "import sys\n",
        "sys.executable\n",
        "sys.path"
      ],
      "metadata": {
        "colab": {
          "base_uri": "https://localhost:8080/"
        },
        "id": "oqFurS8M91v9",
        "outputId": "92863986-6022-46ec-c615-4e80495e36d7"
      },
      "execution_count": 8,
      "outputs": [
        {
          "output_type": "execute_result",
          "data": {
            "text/plain": [
              "['/content',\n",
              " '/env/python',\n",
              " '/usr/lib/python311.zip',\n",
              " '/usr/lib/python3.11',\n",
              " '/usr/lib/python3.11/lib-dynload',\n",
              " '',\n",
              " '/usr/local/lib/python3.11/dist-packages',\n",
              " '/usr/lib/python3/dist-packages',\n",
              " '/usr/local/lib/python3.11/dist-packages/IPython/extensions',\n",
              " '/usr/local/lib/python3.11/dist-packages/setuptools/_vendor',\n",
              " '/root/.ipython',\n",
              " '/content/drive/MyDrive/Mod2/Salud']"
            ]
          },
          "metadata": {},
          "execution_count": 8
        }
      ]
    },
    {
      "cell_type": "code",
      "source": [
        "### cargar modelo\n",
        "\n",
        "modelo_ganador=tf.keras.models.load_model('/content/drive/MyDrive/Mod2/Salud/salidas/best_model.keras')\n"
      ],
      "metadata": {
        "id": "UINnJO0f9Sei"
      },
      "execution_count": 10,
      "outputs": []
    },
    {
      "cell_type": "code",
      "source": [
        "import pandas as pd\n",
        "import numpy as np\n",
        "import tensorflow as tf\n",
        "from sklearn.preprocessing import StandardScaler\n",
        "import joblib  # para cargar el scaler entrenado\n",
        "\n",
        "# --- PARTE 1: FUNCIÓN PRINCIPAL ---\n",
        "if __name__ == \"__main__\":\n",
        "\n",
        "\n",
        "\n",
        "    # 2. Guardar ID o nombre del paciente (si tienes esa columna)\n",
        "    pacientes = df['nombre'] if 'nombre' in df.columns else [f'Paciente_{i+1}' for i in range(len(df))]\n",
        "\n",
        "    # 3. Preparar datos de entrada (eliminar columnas no numéricas si es necesario)\n",
        "    X_deploy = df.drop(columns=['nombre'], errors='ignore')  # Elimina 'nombre' si existe\n",
        "\n",
        "\n",
        "    # 6. Predecir probabilidades\n",
        "    prob = modelo.predict(X_scaled).ravel()\n",
        "\n",
        "    # 7. Clasificación binaria: Diabetes o No ident\n",
        "    threshold_diabetes = 0.5\n",
        "    clasificaciones = [\"Diabetes\" if p > threshold_diabetes else \"No ident\" for p in prob]\n",
        "\n",
        "    # 8. Crear DataFrame de resultados\n",
        "    resultados = pd.DataFrame({\n",
        "        \"Paciente\": pacientes,\n",
        "        \"Probabilidad\": prob,\n",
        "        \"Clasificación\": clasificaciones\n",
        "    })\n",
        "\n",
        "    # 9. Guardar resultados en Excel\n",
        "    resultados.to_excel('/content/drive/MyDrive/Mod2/Salud/salidas/resultado_diabetes.xlsx', index=False)\n",
        "    print(\"✅ Resultados guardados en 'resultado_diabetes.xlsx'\")\n"
      ],
      "metadata": {
        "colab": {
          "base_uri": "https://localhost:8080/",
          "height": 371
        },
        "id": "dWqR37EX_JmZ",
        "outputId": "1d7054d3-b3ed-4aea-b2ed-3fd3e3fea1ab"
      },
      "execution_count": 10,
      "outputs": [
        {
          "output_type": "error",
          "ename": "KeyError",
          "evalue": "35",
          "traceback": [
            "\u001b[0;31m---------------------------------------------------------------------------\u001b[0m",
            "\u001b[0;31mKeyError\u001b[0m                                  Traceback (most recent call last)",
            "\u001b[0;32m<ipython-input-10-430a5ca410ad>\u001b[0m in \u001b[0;36m<cell line: 0>\u001b[0;34m()\u001b[0m\n\u001b[1;32m     17\u001b[0m \u001b[0;34m\u001b[0m\u001b[0m\n\u001b[1;32m     18\u001b[0m     \u001b[0;31m# 4. Escalar los datos con el scaler entrenado previamente\u001b[0m\u001b[0;34m\u001b[0m\u001b[0;34m\u001b[0m\u001b[0m\n\u001b[0;32m---> 19\u001b[0;31m     \u001b[0mscaler\u001b[0m \u001b[0;34m=\u001b[0m \u001b[0mjoblib\u001b[0m\u001b[0;34m.\u001b[0m\u001b[0mload\u001b[0m\u001b[0;34m(\u001b[0m\u001b[0;34m'/content/drive/MyDrive/Mod2/Salud/b_preprocesamiento.py'\u001b[0m\u001b[0;34m)\u001b[0m  \u001b[0;31m# scaler guardado previamente\u001b[0m\u001b[0;34m\u001b[0m\u001b[0;34m\u001b[0m\u001b[0m\n\u001b[0m\u001b[1;32m     20\u001b[0m     \u001b[0mX_scaled\u001b[0m \u001b[0;34m=\u001b[0m \u001b[0mscaler\u001b[0m\u001b[0;34m.\u001b[0m\u001b[0mtransform\u001b[0m\u001b[0;34m(\u001b[0m\u001b[0mX_deploy\u001b[0m\u001b[0;34m)\u001b[0m  \u001b[0;31m# usar solo transform\u001b[0m\u001b[0;34m\u001b[0m\u001b[0;34m\u001b[0m\u001b[0m\n\u001b[1;32m     21\u001b[0m \u001b[0;34m\u001b[0m\u001b[0m\n",
            "\u001b[0;32m/usr/local/lib/python3.11/dist-packages/joblib/numpy_pickle.py\u001b[0m in \u001b[0;36mload\u001b[0;34m(filename, mmap_mode, ensure_native_byte_order)\u001b[0m\n\u001b[1;32m    747\u001b[0m                 \u001b[0;31m# it has been written with. Other arrays are coerced to the\u001b[0m\u001b[0;34m\u001b[0m\u001b[0;34m\u001b[0m\u001b[0m\n\u001b[1;32m    748\u001b[0m                 \u001b[0;31m# native endianness of the host system.\u001b[0m\u001b[0;34m\u001b[0m\u001b[0;34m\u001b[0m\u001b[0m\n\u001b[0;32m--> 749\u001b[0;31m                 obj = _unpickle(\n\u001b[0m\u001b[1;32m    750\u001b[0m                     \u001b[0mfobj\u001b[0m\u001b[0;34m,\u001b[0m\u001b[0;34m\u001b[0m\u001b[0;34m\u001b[0m\u001b[0m\n\u001b[1;32m    751\u001b[0m                     \u001b[0mensure_native_byte_order\u001b[0m\u001b[0;34m=\u001b[0m\u001b[0mensure_native_byte_order\u001b[0m\u001b[0;34m,\u001b[0m\u001b[0;34m\u001b[0m\u001b[0;34m\u001b[0m\u001b[0m\n",
            "\u001b[0;32m/usr/local/lib/python3.11/dist-packages/joblib/numpy_pickle.py\u001b[0m in \u001b[0;36m_unpickle\u001b[0;34m(fobj, ensure_native_byte_order, filename, mmap_mode)\u001b[0m\n\u001b[1;32m    624\u001b[0m     \u001b[0mobj\u001b[0m \u001b[0;34m=\u001b[0m \u001b[0;32mNone\u001b[0m\u001b[0;34m\u001b[0m\u001b[0;34m\u001b[0m\u001b[0m\n\u001b[1;32m    625\u001b[0m     \u001b[0;32mtry\u001b[0m\u001b[0;34m:\u001b[0m\u001b[0;34m\u001b[0m\u001b[0;34m\u001b[0m\u001b[0m\n\u001b[0;32m--> 626\u001b[0;31m         \u001b[0mobj\u001b[0m \u001b[0;34m=\u001b[0m \u001b[0munpickler\u001b[0m\u001b[0;34m.\u001b[0m\u001b[0mload\u001b[0m\u001b[0;34m(\u001b[0m\u001b[0;34m)\u001b[0m\u001b[0;34m\u001b[0m\u001b[0;34m\u001b[0m\u001b[0m\n\u001b[0m\u001b[1;32m    627\u001b[0m         \u001b[0;32mif\u001b[0m \u001b[0munpickler\u001b[0m\u001b[0;34m.\u001b[0m\u001b[0mcompat_mode\u001b[0m\u001b[0;34m:\u001b[0m\u001b[0;34m\u001b[0m\u001b[0;34m\u001b[0m\u001b[0m\n\u001b[1;32m    628\u001b[0m             warnings.warn(\n",
            "\u001b[0;32m/usr/lib/python3.11/pickle.py\u001b[0m in \u001b[0;36mload\u001b[0;34m(self)\u001b[0m\n\u001b[1;32m   1211\u001b[0m                     \u001b[0;32mraise\u001b[0m \u001b[0mEOFError\u001b[0m\u001b[0;34m\u001b[0m\u001b[0;34m\u001b[0m\u001b[0m\n\u001b[1;32m   1212\u001b[0m                 \u001b[0;32massert\u001b[0m \u001b[0misinstance\u001b[0m\u001b[0;34m(\u001b[0m\u001b[0mkey\u001b[0m\u001b[0;34m,\u001b[0m \u001b[0mbytes_types\u001b[0m\u001b[0;34m)\u001b[0m\u001b[0;34m\u001b[0m\u001b[0;34m\u001b[0m\u001b[0m\n\u001b[0;32m-> 1213\u001b[0;31m                 \u001b[0mdispatch\u001b[0m\u001b[0;34m[\u001b[0m\u001b[0mkey\u001b[0m\u001b[0;34m[\u001b[0m\u001b[0;36m0\u001b[0m\u001b[0;34m]\u001b[0m\u001b[0;34m]\u001b[0m\u001b[0;34m(\u001b[0m\u001b[0mself\u001b[0m\u001b[0;34m)\u001b[0m\u001b[0;34m\u001b[0m\u001b[0;34m\u001b[0m\u001b[0m\n\u001b[0m\u001b[1;32m   1214\u001b[0m         \u001b[0;32mexcept\u001b[0m \u001b[0m_Stop\u001b[0m \u001b[0;32mas\u001b[0m \u001b[0mstopinst\u001b[0m\u001b[0;34m:\u001b[0m\u001b[0;34m\u001b[0m\u001b[0;34m\u001b[0m\u001b[0m\n\u001b[1;32m   1215\u001b[0m             \u001b[0;32mreturn\u001b[0m \u001b[0mstopinst\u001b[0m\u001b[0;34m.\u001b[0m\u001b[0mvalue\u001b[0m\u001b[0;34m\u001b[0m\u001b[0;34m\u001b[0m\u001b[0m\n",
            "\u001b[0;31mKeyError\u001b[0m: 35"
          ]
        }
      ]
    },
    {
      "cell_type": "code",
      "source": [
        "# --- PARTE 1: FUNCIÓN PRINCIPAL ---\n",
        "if __name__ == \"__main__\":\n",
        "\n",
        "\n",
        "    # 2. Guardar ID o nombre del paciente (si tienes esa columna)\n",
        "    pacientes = df['nombre'] if 'nombre' in df.columns else [f'Paciente_{i+1}' for i in range(len(df))]\n",
        "\n",
        "    # 3. Preparar datos de entrada (eliminar columnas no numéricas si es necesario)\n",
        "    X_deploy = df.drop(columns=['nombre'], errors='ignore')  # Ajusta según tus columnas\n",
        "\n",
        "    # 4. Escalar los datos con el mismo scaler usado en entrenamiento\n",
        "    scaler = StandardScaler()\n",
        "    X_scaled = scaler.fit_transform(X_deploy)  # O usa `scaler.transform(X_deploy)` si lo guardaste\n",
        "\n",
        "    # 5. Cargar modelo entrenado\n",
        "    modelo = tf.keras.models.load_model('/content/drive/MyDrive/Mod2/Salud/c_modelo_ann.py')  # Cambia el nombre si es otro\n",
        "\n",
        "    # 6. Predecir probabilidades\n",
        "    prob = modelo.predict(X_scaled).ravel()\n",
        "\n",
        "    # 7. Definir clasificación con thresholds\n",
        "    threshold_diabetes = 0.5\n",
        "    clasificaciones = []\n",
        "    for p in prob:\n",
        "        if p > threshold_diabetes:\n",
        "            clasificaciones.append(\"Diabetes\")\n",
        "        else p < 0.2:\n",
        "            clasificaciones.append(\"No ident\")\n",
        "\n",
        "\n",
        "    # 8. Crear archivo con resultados\n",
        "    resultados = pd.DataFrame({\n",
        "        \"Paciente\": pacientes,\n",
        "        \"Probabilidad\": prob,\n",
        "        \"Clasificación\": clasificaciones\n",
        "    })\n",
        "\n",
        "    resultados.to_excel('/content/drive/MyDrive/Mod2/Salud/resultado_diabetes.xlsx', index=False)\n",
        "    print(\"✅ Resultados guardados en '/content/drive/MyDrive/Mod2/Salud/resultado_diabetes.xlsx'\")"
      ],
      "metadata": {
        "colab": {
          "base_uri": "https://localhost:8080/",
          "height": 110
        },
        "id": "3wRD3FLc9u7U",
        "outputId": "58813f31-463c-4ff0-eb22-bedeb3ff5d9c"
      },
      "execution_count": 7,
      "outputs": [
        {
          "output_type": "error",
          "ename": "SyntaxError",
          "evalue": "expected ':' (<ipython-input-7-818e159f7661>, line 27)",
          "traceback": [
            "\u001b[0;36m  File \u001b[0;32m\"<ipython-input-7-818e159f7661>\"\u001b[0;36m, line \u001b[0;32m27\u001b[0m\n\u001b[0;31m    else p < 0.2\u001b[0m\n\u001b[0m         ^\u001b[0m\n\u001b[0;31mSyntaxError\u001b[0m\u001b[0;31m:\u001b[0m expected ':'\n"
          ]
        }
      ]
    }
  ]
}